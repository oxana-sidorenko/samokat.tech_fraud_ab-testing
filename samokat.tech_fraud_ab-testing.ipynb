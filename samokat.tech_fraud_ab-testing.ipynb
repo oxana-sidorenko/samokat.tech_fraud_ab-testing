{
 "cells": [
  {
   "cell_type": "markdown",
   "metadata": {},
   "source": [
    "# План"
   ]
  },
  {
   "cell_type": "markdown",
   "metadata": {},
   "source": [
    "1. EDA\n",
    "2. Дизайн А/Б-теста<br>\n",
    "2.1 Определение метрик и гипотез<br>\n",
    "2.2 Выбор подходящего стат. теста для метрик<br>\n",
    "2.3 Уровень значимости (α), мощность (1 - β), длительность, размер выборки и MDE<br>\n",
    "2.4 Разбиение на группы и А/А-тест\n",
    "3. Ответы на вопросы"
   ]
  },
  {
   "cell_type": "markdown",
   "metadata": {},
   "source": [
    "# 1. EDA"
   ]
  },
  {
   "cell_type": "code",
   "execution_count": 1,
   "metadata": {},
   "outputs": [],
   "source": [
    "import pandas as pd\n",
    "import numpy as np\n",
    "\n",
    "import seaborn as sns\n",
    "import matplotlib.pyplot as plt\n",
    "%matplotlib inline\n",
    "\n",
    "import scipy.stats as ss\n",
    "\n",
    "import requests\n",
    "from urllib.parse import urlencode"
   ]
  },
  {
   "cell_type": "code",
   "execution_count": 2,
   "metadata": {},
   "outputs": [],
   "source": [
    "def get_download_url(public_key):\n",
    "    base_url = 'https://cloud-api.yandex.net/v1/disk/public/resources/download?'\n",
    "    final_url = base_url + urlencode(dict(public_key=public_key))\n",
    "    response = requests.get(final_url)\n",
    "    download_url = response.json()['href']\n",
    "    return download_url"
   ]
  },
  {
   "cell_type": "code",
   "execution_count": 3,
   "metadata": {},
   "outputs": [
    {
     "data": {
      "text/html": [
       "<div>\n",
       "<style scoped>\n",
       "    .dataframe tbody tr th:only-of-type {\n",
       "        vertical-align: middle;\n",
       "    }\n",
       "\n",
       "    .dataframe tbody tr th {\n",
       "        vertical-align: top;\n",
       "    }\n",
       "\n",
       "    .dataframe thead th {\n",
       "        text-align: right;\n",
       "    }\n",
       "</style>\n",
       "<table border=\"1\" class=\"dataframe\">\n",
       "  <thead>\n",
       "    <tr style=\"text-align: right;\">\n",
       "      <th></th>\n",
       "      <th>registration_date</th>\n",
       "      <th>activation_date</th>\n",
       "      <th>merchant_id</th>\n",
       "      <th>type</th>\n",
       "      <th>ind_frod</th>\n",
       "    </tr>\n",
       "  </thead>\n",
       "  <tbody>\n",
       "    <tr>\n",
       "      <th>0</th>\n",
       "      <td>2023-12-16</td>\n",
       "      <td>2023-12-24</td>\n",
       "      <td>1</td>\n",
       "      <td>IE</td>\n",
       "      <td>0.0</td>\n",
       "    </tr>\n",
       "    <tr>\n",
       "      <th>1</th>\n",
       "      <td>2023-09-05</td>\n",
       "      <td>2023-09-08</td>\n",
       "      <td>2</td>\n",
       "      <td>IE</td>\n",
       "      <td>0.0</td>\n",
       "    </tr>\n",
       "    <tr>\n",
       "      <th>2</th>\n",
       "      <td>2023-04-16</td>\n",
       "      <td>2023-04-22</td>\n",
       "      <td>3</td>\n",
       "      <td>IE</td>\n",
       "      <td>0.0</td>\n",
       "    </tr>\n",
       "    <tr>\n",
       "      <th>3</th>\n",
       "      <td>2023-12-23</td>\n",
       "      <td>2023-12-24</td>\n",
       "      <td>4</td>\n",
       "      <td>IE</td>\n",
       "      <td>0.0</td>\n",
       "    </tr>\n",
       "    <tr>\n",
       "      <th>4</th>\n",
       "      <td>2023-01-28</td>\n",
       "      <td>NaT</td>\n",
       "      <td>5</td>\n",
       "      <td>IE</td>\n",
       "      <td>0.0</td>\n",
       "    </tr>\n",
       "  </tbody>\n",
       "</table>\n",
       "</div>"
      ],
      "text/plain": [
       "  registration_date activation_date  merchant_id type  ind_frod\n",
       "0        2023-12-16      2023-12-24            1   IE       0.0\n",
       "1        2023-09-05      2023-09-08            2   IE       0.0\n",
       "2        2023-04-16      2023-04-22            3   IE       0.0\n",
       "3        2023-12-23      2023-12-24            4   IE       0.0\n",
       "4        2023-01-28             NaT            5   IE       0.0"
      ]
     },
     "execution_count": 3,
     "metadata": {},
     "output_type": "execute_result"
    }
   ],
   "source": [
    "df = pd.read_csv(get_download_url('https://disk.yandex.ru/d/gdXR2lcq7vVutg'),\n",
    "                 sep=';',\n",
    "                 parse_dates=['registration_date', 'activation_date'],\n",
    "                 dayfirst=True)\n",
    "\n",
    "df.head()"
   ]
  },
  {
   "cell_type": "code",
   "execution_count": 4,
   "metadata": {},
   "outputs": [
    {
     "name": "stdout",
     "output_type": "stream",
     "text": [
      "<class 'pandas.core.frame.DataFrame'>\n",
      "RangeIndex: 35000 entries, 0 to 34999\n",
      "Data columns (total 5 columns):\n",
      " #   Column             Non-Null Count  Dtype         \n",
      "---  ------             --------------  -----         \n",
      " 0   registration_date  35000 non-null  datetime64[ns]\n",
      " 1   activation_date    20300 non-null  datetime64[ns]\n",
      " 2   merchant_id        35000 non-null  int64         \n",
      " 3   type               35000 non-null  object        \n",
      " 4   ind_frod           34300 non-null  float64       \n",
      "dtypes: datetime64[ns](2), float64(1), int64(1), object(1)\n",
      "memory usage: 1.3+ MB\n"
     ]
    }
   ],
   "source": [
    "df.info()"
   ]
  },
  {
   "cell_type": "markdown",
   "metadata": {},
   "source": [
    "Всего в датафрейме 35000 строк. Видим, что у `ind_frod` есть 700 пропусков, избавимся от этих данных."
   ]
  },
  {
   "cell_type": "code",
   "execution_count": 5,
   "metadata": {},
   "outputs": [],
   "source": [
    "df = df.query('ind_frod >= 0')"
   ]
  },
  {
   "cell_type": "code",
   "execution_count": 6,
   "metadata": {},
   "outputs": [
    {
     "data": {
      "text/plain": [
       "registration_date      365\n",
       "activation_date        380\n",
       "merchant_id          34300\n",
       "type                     2\n",
       "ind_frod                 2\n",
       "dtype: int64"
      ]
     },
     "execution_count": 6,
     "metadata": {},
     "output_type": "execute_result"
    }
   ],
   "source": [
    "# Посмотрим на уникальность значений в датафрейме\n",
    "df.nunique()"
   ]
  },
  {
   "cell_type": "markdown",
   "metadata": {},
   "source": [
    "Видим, что все `merchant_id` уникальны, то есть наблюдения независимы между собой."
   ]
  },
  {
   "cell_type": "code",
   "execution_count": 7,
   "metadata": {},
   "outputs": [
    {
     "data": {
      "text/plain": [
       "(Timestamp('1970-01-01 00:00:00'), Timestamp('2023-12-31 00:00:00'))"
      ]
     },
     "execution_count": 7,
     "metadata": {},
     "output_type": "execute_result"
    }
   ],
   "source": [
    "# Посмотрим, за какой временной период у нас есть данные в датафрейме по регистрациям\n",
    "df.registration_date.min(), df.registration_date.max()"
   ]
  },
  {
   "cell_type": "code",
   "execution_count": 8,
   "metadata": {},
   "outputs": [
    {
     "data": {
      "text/html": [
       "<div>\n",
       "<style scoped>\n",
       "    .dataframe tbody tr th:only-of-type {\n",
       "        vertical-align: middle;\n",
       "    }\n",
       "\n",
       "    .dataframe tbody tr th {\n",
       "        vertical-align: top;\n",
       "    }\n",
       "\n",
       "    .dataframe thead th {\n",
       "        text-align: right;\n",
       "    }\n",
       "</style>\n",
       "<table border=\"1\" class=\"dataframe\">\n",
       "  <thead>\n",
       "    <tr style=\"text-align: right;\">\n",
       "      <th></th>\n",
       "      <th>registration_date</th>\n",
       "      <th>activation_date</th>\n",
       "      <th>merchant_id</th>\n",
       "      <th>type</th>\n",
       "      <th>ind_frod</th>\n",
       "    </tr>\n",
       "  </thead>\n",
       "  <tbody>\n",
       "    <tr>\n",
       "      <th>2392</th>\n",
       "      <td>1970-01-01</td>\n",
       "      <td>2023-02-18</td>\n",
       "      <td>2393</td>\n",
       "      <td>IE</td>\n",
       "      <td>1.0</td>\n",
       "    </tr>\n",
       "    <tr>\n",
       "      <th>3599</th>\n",
       "      <td>1970-01-01</td>\n",
       "      <td>2023-07-11</td>\n",
       "      <td>3600</td>\n",
       "      <td>IE</td>\n",
       "      <td>0.0</td>\n",
       "    </tr>\n",
       "    <tr>\n",
       "      <th>3773</th>\n",
       "      <td>1970-01-01</td>\n",
       "      <td>2023-03-05</td>\n",
       "      <td>3774</td>\n",
       "      <td>IE</td>\n",
       "      <td>0.0</td>\n",
       "    </tr>\n",
       "    <tr>\n",
       "      <th>4263</th>\n",
       "      <td>1970-01-01</td>\n",
       "      <td>2023-06-27</td>\n",
       "      <td>4264</td>\n",
       "      <td>IE</td>\n",
       "      <td>0.0</td>\n",
       "    </tr>\n",
       "    <tr>\n",
       "      <th>4740</th>\n",
       "      <td>1970-01-01</td>\n",
       "      <td>2023-04-01</td>\n",
       "      <td>4741</td>\n",
       "      <td>IE</td>\n",
       "      <td>1.0</td>\n",
       "    </tr>\n",
       "  </tbody>\n",
       "</table>\n",
       "</div>"
      ],
      "text/plain": [
       "     registration_date activation_date  merchant_id type  ind_frod\n",
       "2392        1970-01-01      2023-02-18         2393   IE       1.0\n",
       "3599        1970-01-01      2023-07-11         3600   IE       0.0\n",
       "3773        1970-01-01      2023-03-05         3774   IE       0.0\n",
       "4263        1970-01-01      2023-06-27         4264   IE       0.0\n",
       "4740        1970-01-01      2023-04-01         4741   IE       1.0"
      ]
     },
     "execution_count": 8,
     "metadata": {},
     "output_type": "execute_result"
    }
   ],
   "source": [
    "# Посмотрим на дату 01.01.1970\n",
    "df.query('registration_date == \"01.01.1970\" and activation_date.notnull()').head()"
   ]
  },
  {
   "cell_type": "code",
   "execution_count": 9,
   "metadata": {},
   "outputs": [
    {
     "data": {
      "text/plain": [
       "85"
      ]
     },
     "execution_count": 9,
     "metadata": {},
     "output_type": "execute_result"
    }
   ],
   "source": [
    "# Посмотрим, сколько у нас наблюдений с датой 01.01.1970\n",
    "df.query('registration_date == \"01.01.1970\" and activation_date.notnull()').shape[0]"
   ]
  },
  {
   "cell_type": "markdown",
   "metadata": {},
   "source": [
    "Можно предположить, что 01.01.1970 - это данные за 1 января 2023 г., но это, скорее всего, неверно, так как даты активации таких юзеров с 01.01.1970 были достаточно далеко от даты регистрации. Скорее всего, произошел какой-то баг и некоторые даты регистраций мерчантов не записались, т. е. значение `registration_date` стало нулевым, а 0 — это как раз 01.01.1970 в Unix-формате. Избавимся от этих данных, так как далее, например, мы будем считать среднее кол-во регистраций в день, а эти пустые даты непонятно, к какому дню относятся, плюс таких наблюдений всего лишь 85."
   ]
  },
  {
   "cell_type": "code",
   "execution_count": 10,
   "metadata": {},
   "outputs": [],
   "source": [
    "df = df.query('registration_date != \"01.01.1970\"')"
   ]
  },
  {
   "cell_type": "code",
   "execution_count": 11,
   "metadata": {},
   "outputs": [
    {
     "data": {
      "text/plain": [
       "(Timestamp('2023-01-02 00:00:00'), Timestamp('2023-12-31 00:00:00'))"
      ]
     },
     "execution_count": 11,
     "metadata": {},
     "output_type": "execute_result"
    }
   ],
   "source": [
    "df.registration_date.min(), df.registration_date.max()"
   ]
  },
  {
   "cell_type": "markdown",
   "metadata": {},
   "source": [
    "Видим, что теперь мы располагаем данными с 2 января по декабрь 2023 года вкл. Данные за 1 января у нас отсутствуют."
   ]
  },
  {
   "cell_type": "code",
   "execution_count": 12,
   "metadata": {},
   "outputs": [
    {
     "data": {
      "text/plain": [
       "(Timestamp('2022-01-22 00:00:00'), Timestamp('2024-08-30 00:00:00'))"
      ]
     },
     "execution_count": 12,
     "metadata": {},
     "output_type": "execute_result"
    }
   ],
   "source": [
    "# Посмотрим, за какой временной период у нас есть данные в датафрейме по активациям.\n",
    "df.activation_date.min(), df.activation_date.max()"
   ]
  },
  {
   "cell_type": "code",
   "execution_count": 13,
   "metadata": {},
   "outputs": [
    {
     "data": {
      "text/html": [
       "<div>\n",
       "<style scoped>\n",
       "    .dataframe tbody tr th:only-of-type {\n",
       "        vertical-align: middle;\n",
       "    }\n",
       "\n",
       "    .dataframe tbody tr th {\n",
       "        vertical-align: top;\n",
       "    }\n",
       "\n",
       "    .dataframe thead th {\n",
       "        text-align: right;\n",
       "    }\n",
       "</style>\n",
       "<table border=\"1\" class=\"dataframe\">\n",
       "  <thead>\n",
       "    <tr style=\"text-align: right;\">\n",
       "      <th></th>\n",
       "      <th>registration_date</th>\n",
       "      <th>activation_date</th>\n",
       "      <th>merchant_id</th>\n",
       "      <th>type</th>\n",
       "      <th>ind_frod</th>\n",
       "    </tr>\n",
       "  </thead>\n",
       "  <tbody>\n",
       "    <tr>\n",
       "      <th>34890</th>\n",
       "      <td>2023-08-23</td>\n",
       "      <td>2024-08-30</td>\n",
       "      <td>34891</td>\n",
       "      <td>LLC</td>\n",
       "      <td>0.0</td>\n",
       "    </tr>\n",
       "    <tr>\n",
       "      <th>29939</th>\n",
       "      <td>2023-12-31</td>\n",
       "      <td>2024-01-11</td>\n",
       "      <td>29940</td>\n",
       "      <td>LLC</td>\n",
       "      <td>1.0</td>\n",
       "    </tr>\n",
       "    <tr>\n",
       "      <th>23723</th>\n",
       "      <td>2023-12-31</td>\n",
       "      <td>2024-01-11</td>\n",
       "      <td>23724</td>\n",
       "      <td>IE</td>\n",
       "      <td>0.0</td>\n",
       "    </tr>\n",
       "    <tr>\n",
       "      <th>23813</th>\n",
       "      <td>2023-12-30</td>\n",
       "      <td>2024-01-10</td>\n",
       "      <td>23814</td>\n",
       "      <td>IE</td>\n",
       "      <td>0.0</td>\n",
       "    </tr>\n",
       "    <tr>\n",
       "      <th>9272</th>\n",
       "      <td>2023-12-31</td>\n",
       "      <td>2024-01-10</td>\n",
       "      <td>9273</td>\n",
       "      <td>IE</td>\n",
       "      <td>0.0</td>\n",
       "    </tr>\n",
       "  </tbody>\n",
       "</table>\n",
       "</div>"
      ],
      "text/plain": [
       "      registration_date activation_date  merchant_id type  ind_frod\n",
       "34890        2023-08-23      2024-08-30        34891  LLC       0.0\n",
       "29939        2023-12-31      2024-01-11        29940  LLC       1.0\n",
       "23723        2023-12-31      2024-01-11        23724   IE       0.0\n",
       "23813        2023-12-30      2024-01-10        23814   IE       0.0\n",
       "9272         2023-12-31      2024-01-10         9273   IE       0.0"
      ]
     },
     "execution_count": 13,
     "metadata": {},
     "output_type": "execute_result"
    }
   ],
   "source": [
    "# Посмотрим на наблюдения с датой активации в 2024 году\n",
    "df.query('activation_date > \"31.12.2023\"').sort_values('activation_date', ascending=False).head()"
   ]
  },
  {
   "cell_type": "markdown",
   "metadata": {},
   "source": [
    "Видим, что у нас есть одно аномальное наблюдение, где активация произошла примерно через год. Возможно, что произошел какой-то баг и 2023 год записался как 2024, это похоже на правду, так как дата активации наступила бы в таком случае через 7 дней. Заменим значение 2024 года на 2023 для этого наблюдения."
   ]
  },
  {
   "cell_type": "code",
   "execution_count": 14,
   "metadata": {},
   "outputs": [],
   "source": [
    "df.loc[34890,'activation_date'] = df.query('activation_date == \"30.08.2024\"').activation_date.map(lambda val: val.replace(year=2023)).values"
   ]
  },
  {
   "cell_type": "code",
   "execution_count": 15,
   "metadata": {},
   "outputs": [
    {
     "data": {
      "text/html": [
       "<div>\n",
       "<style scoped>\n",
       "    .dataframe tbody tr th:only-of-type {\n",
       "        vertical-align: middle;\n",
       "    }\n",
       "\n",
       "    .dataframe tbody tr th {\n",
       "        vertical-align: top;\n",
       "    }\n",
       "\n",
       "    .dataframe thead th {\n",
       "        text-align: right;\n",
       "    }\n",
       "</style>\n",
       "<table border=\"1\" class=\"dataframe\">\n",
       "  <thead>\n",
       "    <tr style=\"text-align: right;\">\n",
       "      <th></th>\n",
       "      <th>registration_date</th>\n",
       "      <th>activation_date</th>\n",
       "      <th>merchant_id</th>\n",
       "      <th>type</th>\n",
       "      <th>ind_frod</th>\n",
       "    </tr>\n",
       "  </thead>\n",
       "  <tbody>\n",
       "    <tr>\n",
       "      <th>34890</th>\n",
       "      <td>2023-08-23</td>\n",
       "      <td>2023-08-30</td>\n",
       "      <td>34891</td>\n",
       "      <td>LLC</td>\n",
       "      <td>0.0</td>\n",
       "    </tr>\n",
       "  </tbody>\n",
       "</table>\n",
       "</div>"
      ],
      "text/plain": [
       "      registration_date activation_date  merchant_id type  ind_frod\n",
       "34890        2023-08-23      2023-08-30        34891  LLC       0.0"
      ]
     },
     "execution_count": 15,
     "metadata": {},
     "output_type": "execute_result"
    }
   ],
   "source": [
    "df.loc[[34890]]"
   ]
  },
  {
   "cell_type": "code",
   "execution_count": 16,
   "metadata": {},
   "outputs": [
    {
     "data": {
      "text/plain": [
       "(Timestamp('2022-01-22 00:00:00'), Timestamp('2024-01-11 00:00:00'))"
      ]
     },
     "execution_count": 16,
     "metadata": {},
     "output_type": "execute_result"
    }
   ],
   "source": [
    "df.activation_date.min(), df.activation_date.max()"
   ]
  },
  {
   "cell_type": "markdown",
   "metadata": {},
   "source": [
    "Видим, что теперь мы располагаем данными с 22 января 2023 года по 11 января 2024 года вкл. Выглядит правдоподобно."
   ]
  },
  {
   "cell_type": "code",
   "execution_count": 17,
   "metadata": {},
   "outputs": [
    {
     "data": {
      "text/html": [
       "<div>\n",
       "<style scoped>\n",
       "    .dataframe tbody tr th:only-of-type {\n",
       "        vertical-align: middle;\n",
       "    }\n",
       "\n",
       "    .dataframe tbody tr th {\n",
       "        vertical-align: top;\n",
       "    }\n",
       "\n",
       "    .dataframe thead th {\n",
       "        text-align: right;\n",
       "    }\n",
       "</style>\n",
       "<table border=\"1\" class=\"dataframe\">\n",
       "  <thead>\n",
       "    <tr style=\"text-align: right;\">\n",
       "      <th></th>\n",
       "      <th>registration_date</th>\n",
       "      <th>activation_date</th>\n",
       "      <th>merchant_id</th>\n",
       "      <th>type</th>\n",
       "      <th>ind_frod</th>\n",
       "    </tr>\n",
       "  </thead>\n",
       "  <tbody>\n",
       "    <tr>\n",
       "      <th>16</th>\n",
       "      <td>2023-09-21</td>\n",
       "      <td>2023-08-27</td>\n",
       "      <td>17</td>\n",
       "      <td>IE</td>\n",
       "      <td>1.0</td>\n",
       "    </tr>\n",
       "    <tr>\n",
       "      <th>223</th>\n",
       "      <td>2023-07-02</td>\n",
       "      <td>2023-05-11</td>\n",
       "      <td>224</td>\n",
       "      <td>IE</td>\n",
       "      <td>0.0</td>\n",
       "    </tr>\n",
       "    <tr>\n",
       "      <th>670</th>\n",
       "      <td>2023-11-23</td>\n",
       "      <td>2023-11-04</td>\n",
       "      <td>671</td>\n",
       "      <td>IE</td>\n",
       "      <td>0.0</td>\n",
       "    </tr>\n",
       "    <tr>\n",
       "      <th>1007</th>\n",
       "      <td>2023-05-26</td>\n",
       "      <td>2022-06-03</td>\n",
       "      <td>1008</td>\n",
       "      <td>IE</td>\n",
       "      <td>0.0</td>\n",
       "    </tr>\n",
       "    <tr>\n",
       "      <th>1829</th>\n",
       "      <td>2023-05-24</td>\n",
       "      <td>2023-05-21</td>\n",
       "      <td>1830</td>\n",
       "      <td>IE</td>\n",
       "      <td>0.0</td>\n",
       "    </tr>\n",
       "  </tbody>\n",
       "</table>\n",
       "</div>"
      ],
      "text/plain": [
       "     registration_date activation_date  merchant_id type  ind_frod\n",
       "16          2023-09-21      2023-08-27           17   IE       1.0\n",
       "223         2023-07-02      2023-05-11          224   IE       0.0\n",
       "670         2023-11-23      2023-11-04          671   IE       0.0\n",
       "1007        2023-05-26      2022-06-03         1008   IE       0.0\n",
       "1829        2023-05-24      2023-05-21         1830   IE       0.0"
      ]
     },
     "execution_count": 17,
     "metadata": {},
     "output_type": "execute_result"
    }
   ],
   "source": [
    "# Посмотрим, есть ли у нас наблюдения, где дата активации раньше, чем дата регистрации\n",
    "df.query('activation_date < registration_date').head()"
   ]
  },
  {
   "cell_type": "code",
   "execution_count": 18,
   "metadata": {},
   "outputs": [
    {
     "data": {
      "text/plain": [
       "19"
      ]
     },
     "execution_count": 18,
     "metadata": {},
     "output_type": "execute_result"
    }
   ],
   "source": [
    "df.query('activation_date < registration_date').shape[0]"
   ]
  },
  {
   "cell_type": "markdown",
   "metadata": {},
   "source": [
    "Такие наблюдения есть, избавимся от них, так как это выглядит нелогично и таких наблюдений всего 19.\n",
    "\n",
    "Также создадим два новых датафрейма, чтобы было удобно работать с регистрациями и активациями. В `registration_df` будут все регистрации юзеров, как активированных, так и неактивированных (юзер отвалился, не захотел проходить остальные этапы регистрации), а в `activation_df` будут только активированные юзеры."
   ]
  },
  {
   "cell_type": "code",
   "execution_count": 19,
   "metadata": {},
   "outputs": [
    {
     "data": {
      "text/html": [
       "<div>\n",
       "<style scoped>\n",
       "    .dataframe tbody tr th:only-of-type {\n",
       "        vertical-align: middle;\n",
       "    }\n",
       "\n",
       "    .dataframe tbody tr th {\n",
       "        vertical-align: top;\n",
       "    }\n",
       "\n",
       "    .dataframe thead th {\n",
       "        text-align: right;\n",
       "    }\n",
       "</style>\n",
       "<table border=\"1\" class=\"dataframe\">\n",
       "  <thead>\n",
       "    <tr style=\"text-align: right;\">\n",
       "      <th></th>\n",
       "      <th>registration_date</th>\n",
       "      <th>activation_date</th>\n",
       "      <th>merchant_id</th>\n",
       "      <th>type</th>\n",
       "      <th>ind_frod</th>\n",
       "    </tr>\n",
       "  </thead>\n",
       "  <tbody>\n",
       "    <tr>\n",
       "      <th>0</th>\n",
       "      <td>2023-12-16</td>\n",
       "      <td>2023-12-24</td>\n",
       "      <td>1</td>\n",
       "      <td>IE</td>\n",
       "      <td>0.0</td>\n",
       "    </tr>\n",
       "    <tr>\n",
       "      <th>1</th>\n",
       "      <td>2023-09-05</td>\n",
       "      <td>2023-09-08</td>\n",
       "      <td>2</td>\n",
       "      <td>IE</td>\n",
       "      <td>0.0</td>\n",
       "    </tr>\n",
       "    <tr>\n",
       "      <th>2</th>\n",
       "      <td>2023-04-16</td>\n",
       "      <td>2023-04-22</td>\n",
       "      <td>3</td>\n",
       "      <td>IE</td>\n",
       "      <td>0.0</td>\n",
       "    </tr>\n",
       "    <tr>\n",
       "      <th>3</th>\n",
       "      <td>2023-12-23</td>\n",
       "      <td>2023-12-24</td>\n",
       "      <td>4</td>\n",
       "      <td>IE</td>\n",
       "      <td>0.0</td>\n",
       "    </tr>\n",
       "    <tr>\n",
       "      <th>4</th>\n",
       "      <td>2023-01-28</td>\n",
       "      <td>NaT</td>\n",
       "      <td>5</td>\n",
       "      <td>IE</td>\n",
       "      <td>0.0</td>\n",
       "    </tr>\n",
       "  </tbody>\n",
       "</table>\n",
       "</div>"
      ],
      "text/plain": [
       "  registration_date activation_date  merchant_id type  ind_frod\n",
       "0        2023-12-16      2023-12-24            1   IE       0.0\n",
       "1        2023-09-05      2023-09-08            2   IE       0.0\n",
       "2        2023-04-16      2023-04-22            3   IE       0.0\n",
       "3        2023-12-23      2023-12-24            4   IE       0.0\n",
       "4        2023-01-28             NaT            5   IE       0.0"
      ]
     },
     "execution_count": 19,
     "metadata": {},
     "output_type": "execute_result"
    }
   ],
   "source": [
    "registration_df = df.query('activation_date >= registration_date or activation_date.isnull()')\n",
    "registration_df.head()"
   ]
  },
  {
   "cell_type": "code",
   "execution_count": 20,
   "metadata": {},
   "outputs": [
    {
     "data": {
      "text/html": [
       "<div>\n",
       "<style scoped>\n",
       "    .dataframe tbody tr th:only-of-type {\n",
       "        vertical-align: middle;\n",
       "    }\n",
       "\n",
       "    .dataframe tbody tr th {\n",
       "        vertical-align: top;\n",
       "    }\n",
       "\n",
       "    .dataframe thead th {\n",
       "        text-align: right;\n",
       "    }\n",
       "</style>\n",
       "<table border=\"1\" class=\"dataframe\">\n",
       "  <thead>\n",
       "    <tr style=\"text-align: right;\">\n",
       "      <th></th>\n",
       "      <th>registration_date</th>\n",
       "      <th>activation_date</th>\n",
       "      <th>merchant_id</th>\n",
       "      <th>type</th>\n",
       "      <th>ind_frod</th>\n",
       "    </tr>\n",
       "  </thead>\n",
       "  <tbody>\n",
       "    <tr>\n",
       "      <th>0</th>\n",
       "      <td>2023-12-16</td>\n",
       "      <td>2023-12-24</td>\n",
       "      <td>1</td>\n",
       "      <td>IE</td>\n",
       "      <td>0.0</td>\n",
       "    </tr>\n",
       "    <tr>\n",
       "      <th>1</th>\n",
       "      <td>2023-09-05</td>\n",
       "      <td>2023-09-08</td>\n",
       "      <td>2</td>\n",
       "      <td>IE</td>\n",
       "      <td>0.0</td>\n",
       "    </tr>\n",
       "    <tr>\n",
       "      <th>2</th>\n",
       "      <td>2023-04-16</td>\n",
       "      <td>2023-04-22</td>\n",
       "      <td>3</td>\n",
       "      <td>IE</td>\n",
       "      <td>0.0</td>\n",
       "    </tr>\n",
       "    <tr>\n",
       "      <th>3</th>\n",
       "      <td>2023-12-23</td>\n",
       "      <td>2023-12-24</td>\n",
       "      <td>4</td>\n",
       "      <td>IE</td>\n",
       "      <td>0.0</td>\n",
       "    </tr>\n",
       "    <tr>\n",
       "      <th>7</th>\n",
       "      <td>2023-10-27</td>\n",
       "      <td>2023-10-29</td>\n",
       "      <td>8</td>\n",
       "      <td>IE</td>\n",
       "      <td>0.0</td>\n",
       "    </tr>\n",
       "  </tbody>\n",
       "</table>\n",
       "</div>"
      ],
      "text/plain": [
       "  registration_date activation_date  merchant_id type  ind_frod\n",
       "0        2023-12-16      2023-12-24            1   IE       0.0\n",
       "1        2023-09-05      2023-09-08            2   IE       0.0\n",
       "2        2023-04-16      2023-04-22            3   IE       0.0\n",
       "3        2023-12-23      2023-12-24            4   IE       0.0\n",
       "7        2023-10-27      2023-10-29            8   IE       0.0"
      ]
     },
     "execution_count": 20,
     "metadata": {},
     "output_type": "execute_result"
    }
   ],
   "source": [
    "activation_df = df.query('activation_date >= registration_date')\n",
    "activation_df.head()"
   ]
  },
  {
   "cell_type": "code",
   "execution_count": 21,
   "metadata": {
    "scrolled": true
   },
   "outputs": [
    {
     "data": {
      "text/plain": [
       "58.04210155975138"
      ]
     },
     "execution_count": 21,
     "metadata": {},
     "output_type": "execute_result"
    }
   ],
   "source": [
    "activation_df.shape[0] / registration_df.shape[0] * 100"
   ]
  },
  {
   "cell_type": "markdown",
   "metadata": {},
   "source": [
    "Видим, что из всех зарегистрированных юзеров только 58% прошли до конца регистрацию."
   ]
  },
  {
   "cell_type": "markdown",
   "metadata": {},
   "source": [
    "# 2. Дизайн А/Б-теста"
   ]
  },
  {
   "cell_type": "markdown",
   "metadata": {},
   "source": [
    "## 2.1 Определение метрик и гипотез"
   ]
  },
  {
   "cell_type": "markdown",
   "metadata": {},
   "source": [
    "В качестве метрик можно использовать следующие:\n",
    "- основная - доля активированных фродеров среди всех активированных юзеров\n",
    "- дополнительная - среднее кол-во регистраций в день\n",
    "\n",
    "Соответственно, гипотезы будут звучать так:\n",
    "- при внедрении модели по автоопределению продавцов-мошенников доля фродеров среди всех активированных юзеров уменьшится (для основной метрики)\n",
    "- при внедрении ML-модели среднее кол-во регистраций в день не должно уменьшиться (для доп. метрики)\n",
    "\n",
    "Для начала возьмем основную метрику - процент активированных фродеров среди всех активированных юзеров. Посмотрим, сколько у нас фродеров и честных продавцов среди активированных юзеров, то есть посчитаем их долю."
   ]
  },
  {
   "cell_type": "code",
   "execution_count": 22,
   "metadata": {
    "scrolled": true
   },
   "outputs": [
    {
     "data": {
      "text/plain": [
       "ind_frod\n",
       "0.0    18198\n",
       "1.0     1599\n",
       "Name: ind_frod, dtype: int64"
      ]
     },
     "execution_count": 22,
     "metadata": {},
     "output_type": "execute_result"
    }
   ],
   "source": [
    "activation_df.groupby('ind_frod').ind_frod.count()"
   ]
  },
  {
   "cell_type": "code",
   "execution_count": 23,
   "metadata": {},
   "outputs": [
    {
     "data": {
      "text/plain": [
       "0.0    91.92\n",
       "1.0     8.08\n",
       "Name: ind_frod, dtype: float64"
      ]
     },
     "execution_count": 23,
     "metadata": {},
     "output_type": "execute_result"
    }
   ],
   "source": [
    "activation_df.ind_frod.value_counts(normalize=True).mul(100).round(2)"
   ]
  },
  {
   "cell_type": "code",
   "execution_count": 24,
   "metadata": {},
   "outputs": [
    {
     "data": {
      "text/plain": [
       "type\n",
       "IE     85.178236\n",
       "LLC    14.821764\n",
       "Name: merchant_id, dtype: float64"
      ]
     },
     "execution_count": 24,
     "metadata": {},
     "output_type": "execute_result"
    }
   ],
   "source": [
    "activation_df.query('ind_frod == 1').groupby('type').merchant_id.count() / activation_df.query('ind_frod == 1').shape[0] * 100"
   ]
  },
  {
   "cell_type": "markdown",
   "metadata": {},
   "source": [
    "Видим, что доля активированных фродеров среди всех активированных юзеров составляет около 8.08%. Также приходим к выводу, что среди фродеров ИП гораздо больше, чем ООО. Большая доля фродеров - это именно ИП.\n",
    "\n",
    "Теперь возьмем доп. метрику - среднее кол-во регистраций в день."
   ]
  },
  {
   "cell_type": "code",
   "execution_count": 25,
   "metadata": {},
   "outputs": [
    {
     "data": {
      "text/plain": [
       "registration_date\n",
       "2023-01-02     89\n",
       "2023-01-03     75\n",
       "2023-01-04    101\n",
       "2023-01-05    104\n",
       "2023-01-06     98\n",
       "Name: merchant_id, dtype: int64"
      ]
     },
     "execution_count": 25,
     "metadata": {},
     "output_type": "execute_result"
    }
   ],
   "source": [
    "# Сгруппируемся по дате и посмотрим, сколько у нас регистраций каждый день\n",
    "registration_df.groupby('registration_date').merchant_id.count().head()"
   ]
  },
  {
   "cell_type": "code",
   "execution_count": 26,
   "metadata": {},
   "outputs": [
    {
     "data": {
      "text/plain": [
       "<matplotlib.axes._subplots.AxesSubplot at 0x7f63aae722e8>"
      ]
     },
     "execution_count": 26,
     "metadata": {},
     "output_type": "execute_result"
    },
    {
     "data": {
      "image/png": "[encoded data removed]",
      "text/plain": [
       "<Figure size 432x288 with 1 Axes>"
      ]
     },
     "metadata": {
      "needs_background": "light"
     },
     "output_type": "display_data"
    }
   ],
   "source": [
    "# Визуализируем эти данные\n",
    "registration_df.groupby('registration_date').merchant_id.count().hist()"
   ]
  },
  {
   "cell_type": "markdown",
   "metadata": {},
   "source": [
    "Видим, что у нас нормальное распределение, можем дополнительно это проверить. Проверим через тест Агостино-Пирсона, этот тест больше адаптирован к большим выборкам. $H_0$: наблюдения распределены нормально."
   ]
  },
  {
   "cell_type": "code",
   "execution_count": 27,
   "metadata": {},
   "outputs": [
    {
     "data": {
      "text/plain": [
       "NormaltestResult(statistic=0.7353295412250589, pvalue=0.692349238601581)"
      ]
     },
     "execution_count": 27,
     "metadata": {},
     "output_type": "execute_result"
    }
   ],
   "source": [
    "ss.normaltest(registration_df.groupby('registration_date').merchant_id.count())"
   ]
  },
  {
   "cell_type": "code",
   "execution_count": 28,
   "metadata": {},
   "outputs": [
    {
     "data": {
      "text/plain": [
       "count    364.000000\n",
       "mean      93.703297\n",
       "std        9.709266\n",
       "min       59.000000\n",
       "25%       88.000000\n",
       "50%       94.000000\n",
       "75%      100.000000\n",
       "max      120.000000\n",
       "Name: merchant_id, dtype: float64"
      ]
     },
     "execution_count": 28,
     "metadata": {},
     "output_type": "execute_result"
    }
   ],
   "source": [
    "# Посмотрим на основные описательные статистики\n",
    "registration_df.groupby('registration_date').merchant_id.count().describe()"
   ]
  },
  {
   "cell_type": "markdown",
   "metadata": {},
   "source": [
    "Среднее кол-во регистраций в день ≈ 94."
   ]
  },
  {
   "cell_type": "markdown",
   "metadata": {},
   "source": [
    "## 2.2 Выбор подходящего стат. теста для метрик"
   ]
  },
  {
   "cell_type": "markdown",
   "metadata": {},
   "source": [
    "Для проверки стат. значимости изменения основной метрики (доля активированных фродеров среди всех активированных юзеров) я бы применила t-тест, так как среднее от 0 и 1 является пропорцией. Лучше применить t-тест Уэлча (добавим параметр `equal_var=False`), так как его результат будет примерно одинаков при равенстве дисперсий в сравнении с t-тестом Стьюдента, а при неравенстве дисперсий t-тест Уэлча отработает лучше, чем t-тест Стьюдента.<br>\n",
    "Хотелось бы отметить, что t-тест работает и при ненормальных распределениях, о чем говорится в [статье](https://koch-kir.medium.com/%D0%B8%D1%81%D1%82%D0%BE%D1%80%D0%B8%D1%8F-%D0%BE%D0%B4%D0%BD%D0%BE%D0%B3%D0%BE-%D0%BE%D0%B1%D0%BC%D0%B0%D0%BD%D0%B0-%D0%B8%D0%BB%D0%B8-%D1%82%D1%80%D0%B5%D0%B1%D0%BE%D0%B2%D0%B0%D0%BD%D0%B8%D1%8F-%D0%BA-%D1%80%D0%B0%D1%81%D0%BF%D1%80%D0%B5%D0%B4%D0%B5%D0%BB%D0%B5%D0%BD%D0%B8%D1%8E-%D0%B2-%D1%81%D1%82%D0%B0%D1%82%D0%B8%D1%81%D1%82%D0%B8%D1%87%D0%B5%D1%81%D0%BA%D0%B8%D1%85-%D1%82%D0%B5%D1%81%D1%82%D0%B0%D1%85-55139a5558d) (нужен VPN).<br>\n",
    "Также нужно понимать, что t-тест подразумевает независимость отдельных наблюдений, у нас для `ind_frod` это условие соблюдается (все `merchant_id` уникальны, то есть один и тот же `merchant_id` не проходит несколько процедур регистраций, только одну).\n",
    "\n",
    "Гипотезы для теста:\n",
    "\n",
    "$H_0$: доля активированных фродеров среди всех активированных юзеров в контрольной и тестовой группе равна.<br>\n",
    "$H_1$: доля активированных фродеров среди всех активированных юзеров в контрольной и тестовой группе не равна.\n",
    "\n",
    "Для проверки стат. значимости изменения доп. метрики (среднее кол-во регистраций в день) также подойдет t-тест Уэлча, так как мы будем сравнивать среднее в обеих группах. \n",
    "\n",
    "Гипотезы для теста:\n",
    "\n",
    "$H_0$: среднее кол-во регистраций в день в контрольной и тестовой группе равно.<br>\n",
    "$H_1$: среднее кол-во регистраций в день в контрольной и тестовой группе не равно."
   ]
  },
  {
   "cell_type": "markdown",
   "metadata": {},
   "source": [
    "## 2.3 Уровень значимости (α), мощность (1 - β), длительность, размер выборки и MDE"
   ]
  },
  {
   "cell_type": "markdown",
   "metadata": {},
   "source": [
    "Уровень значимости (α) = 0.05.\n",
    "\n",
    "Мощность (1 - β) = 0.8.\n",
    "\n",
    "Так как мы смотрим на процент фродеров среди всех активированных юзеров, посмотрим, сколько у нас продавцов было активировано в разбивке по каждому дню."
   ]
  },
  {
   "cell_type": "code",
   "execution_count": 29,
   "metadata": {},
   "outputs": [
    {
     "data": {
      "text/plain": [
       "count    364.000000\n",
       "mean      54.387363\n",
       "std        7.491112\n",
       "min       28.000000\n",
       "25%       50.000000\n",
       "50%       54.000000\n",
       "75%       60.000000\n",
       "max       74.000000\n",
       "Name: merchant_id, dtype: float64"
      ]
     },
     "execution_count": 29,
     "metadata": {},
     "output_type": "execute_result"
    }
   ],
   "source": [
    "activation_df.groupby('registration_date').merchant_id.count().describe()"
   ]
  },
  {
   "cell_type": "markdown",
   "metadata": {},
   "source": [
    "В среднем у нас регистрируются и активируются впоследствии 54 продавца в день (те, кто пройдут полную процедуру регистрации).\n",
    "\n",
    "Для того чтобы рассчитать размер выборки, необходимо определиться с длительностью эксперимента, будем считать, что тест будет проводиться около 4-х месяцев (а именно 16 недель, 112 дней). 4-х месяцев будет достаточно, чтобы собрать необходимое количество данных, но при этом это не излишне долгий срок. Если уменьшать длительность теста, то MDE будет ниже при заданной α и мощности.\n",
    "\n",
    "В среднем набирается 54 продавца в день, прошедших полную процедуру регистрации, значит мы можем посчитать размер выборки для каждой группы (контрольной и тестовой)."
   ]
  },
  {
   "cell_type": "code",
   "execution_count": 30,
   "metadata": {},
   "outputs": [
    {
     "data": {
      "text/plain": [
       "6048"
      ]
     },
     "execution_count": 30,
     "metadata": {},
     "output_type": "execute_result"
    }
   ],
   "source": [
    "54 * 112"
   ]
  },
  {
   "cell_type": "markdown",
   "metadata": {},
   "source": [
    "Размер выборки для каждой группы = 3024 (всего 6048 наблюдений для обеих групп).\n",
    "\n",
    "Теперь определим MDE, для этого проведем симуляции. Мы хотим понять, как часто мы будем фиксировать стат. значимые различия. Проведем 1000 таких экспериментов, т. е. в цикле 1000 раз проведем t-тест, который будет сравнивать 2 выборки из двух разных распределений (контрольная и тестовая группа)."
   ]
  },
  {
   "cell_type": "code",
   "execution_count": 31,
   "metadata": {},
   "outputs": [
    {
     "data": {
      "text/plain": [
       "count    19797.000000\n",
       "mean         0.080770\n",
       "std          0.272488\n",
       "min          0.000000\n",
       "25%          0.000000\n",
       "50%          0.000000\n",
       "75%          0.000000\n",
       "max          1.000000\n",
       "Name: ind_frod, dtype: float64"
      ]
     },
     "execution_count": 31,
     "metadata": {},
     "output_type": "execute_result"
    }
   ],
   "source": [
    "# Посмотрим на описательные статистики ind_frod в датафрейме только с активированными юзерами\n",
    "activation_df.ind_frod.describe()"
   ]
  },
  {
   "cell_type": "code",
   "execution_count": 32,
   "metadata": {
    "tags": []
   },
   "outputs": [],
   "source": [
    "mu = 0.080774\n",
    "sigma = 0.272494\n",
    "n = 3024\n",
    "diff = 0.25"
   ]
  },
  {
   "cell_type": "code",
   "execution_count": 33,
   "metadata": {
    "tags": []
   },
   "outputs": [],
   "source": [
    "n_trials = 1000\n",
    "significant_count = 0"
   ]
  },
  {
   "cell_type": "code",
   "execution_count": 34,
   "metadata": {
    "tags": []
   },
   "outputs": [],
   "source": [
    "for i in range(n_trials):\n",
    "    control_group = np.random.normal(mu, sigma, n)\n",
    "    exp_group = np.random.normal(mu - mu * diff, sigma, n)\n",
    "    test_fit = ss.ttest_ind(control_group, exp_group, equal_var=False)\n",
    "    if test_fit.pvalue < 0.05:\n",
    "        significant_count += 1"
   ]
  },
  {
   "cell_type": "code",
   "execution_count": 35,
   "metadata": {
    "tags": []
   },
   "outputs": [
    {
     "data": {
      "text/plain": [
       "0.816"
      ]
     },
     "execution_count": 35,
     "metadata": {},
     "output_type": "execute_result"
    }
   ],
   "source": [
    "# В каком % случаев наш стат. тест показал стат. значимые различия, т. е. мощность\n",
    "significant_count / n_trials"
   ]
  },
  {
   "cell_type": "code",
   "execution_count": 36,
   "metadata": {
    "scrolled": true
   },
   "outputs": [
    {
     "data": {
      "text/plain": [
       "6.0600000000000005"
      ]
     },
     "execution_count": 36,
     "metadata": {},
     "output_type": "execute_result"
    }
   ],
   "source": [
    "# Посмотрим на значение конверсии, если она уменьшится на 25%, такой MDE мы с большой вероятностью сможем задетектить\n",
    "(round(mu - mu * diff, 4)) * 100"
   ]
  },
  {
   "cell_type": "code",
   "execution_count": 37,
   "metadata": {},
   "outputs": [
    {
     "data": {
      "text/plain": [
       "10.100000000000001"
      ]
     },
     "execution_count": 37,
     "metadata": {},
     "output_type": "execute_result"
    }
   ],
   "source": [
    "# Посмотрим на значение конверсии, если она увеличится на 25%, такой MDE мы с большой вероятностью сможем задетектить\n",
    "(round(mu + mu * diff, 4)) * 100"
   ]
  },
  {
   "cell_type": "markdown",
   "metadata": {},
   "source": [
    "А что если уменьшим MDE до 24%?"
   ]
  },
  {
   "cell_type": "code",
   "execution_count": 38,
   "metadata": {
    "tags": []
   },
   "outputs": [],
   "source": [
    "mu = 0.080774\n",
    "sigma = 0.272494\n",
    "n = 3024\n",
    "diff = 0.24"
   ]
  },
  {
   "cell_type": "code",
   "execution_count": 39,
   "metadata": {
    "tags": []
   },
   "outputs": [],
   "source": [
    "n_trials = 1000\n",
    "significant_count = 0"
   ]
  },
  {
   "cell_type": "code",
   "execution_count": 40,
   "metadata": {
    "tags": []
   },
   "outputs": [],
   "source": [
    "for i in range(n_trials):\n",
    "    control_group = np.random.normal(mu, sigma, n)\n",
    "    exp_group = np.random.normal(mu - mu * diff, sigma, n)\n",
    "    test_fit = ss.ttest_ind(control_group, exp_group, equal_var=False)\n",
    "    if test_fit.pvalue < 0.05:\n",
    "        significant_count += 1"
   ]
  },
  {
   "cell_type": "code",
   "execution_count": 41,
   "metadata": {
    "tags": []
   },
   "outputs": [
    {
     "data": {
      "text/plain": [
       "0.785"
      ]
     },
     "execution_count": 41,
     "metadata": {},
     "output_type": "execute_result"
    }
   ],
   "source": [
    "# В каком % случаев наш стат. тест показал стат. значимые различия, т. е. мощность\n",
    "significant_count / n_trials"
   ]
  },
  {
   "cell_type": "markdown",
   "metadata": {},
   "source": [
    "Видим, что мощность уже совсем немного не дотягивает до той, которую мы установили в дизайне эксперимента (0.8).\n",
    "\n",
    "Можно сказать, что наша разница в 25%, конкретно в этом дизайне эксперимента - это и будет MDE (в относительном выражении), тот размер эффекта, который мы всегда сможем задетектить. Наша выборка в 3024 человека в каждой группе с большой вероятностью позволит зафиксировать различия в 25%. А если бы различия были бы меньше (например, 24%), то уже мощность стат. теста была бы меньше, установленной в дизайне.\n",
    "\n",
    "В абсолютном выражении MDE ≈ 2%, то есть если наша доля активированных фродеров среди всех активированных юзеров упадет с 8.08% до 6.06% (или вырастет до 10.1%) с большой вероятностью мы это задетектим и это тот мин. детектируемый эффект, который мы обнаружим с заданной мощностью. Будем считать, что если изменение составляет менее 2% в абсолютном выражении, то эксперимент считается неудачным и фичу добавлять не стоит. А вот изменение на 2% для нас уже существенно и нам важно его задетектить.\n",
    "\n",
    "Можно уменьшить длительность теста (4 месяца - это крайний предел для длительности, по моему мнению), но тогда нужно понимать, что MDE будет уже выше при заданной α и мощности. Тут уже вопрос приоритетов, что нам важнее: быстрее провести тест или с большой вероятностью словить тот MDE, который для нас будет существенен.\n",
    "\n",
    "Также можно еще попробовать прибегнуть к методам, позволяющим увеличивать мощность (снижать дисперсию) в A/B-тестах, таким как CUPED, постнормировка и стратификация."
   ]
  },
  {
   "cell_type": "markdown",
   "metadata": {},
   "source": [
    "## 2.4 Разбиение на группы и А/А-тест"
   ]
  },
  {
   "cell_type": "markdown",
   "metadata": {},
   "source": [
    "В рамках A/B-теста мы будем всех продавцов распределять случайным образом делить на две равные группы: тестовую (50%) и контрольную группу (50%).\n",
    "\n",
    "На имеющихся исторических данных проведем A/A-тестирование. Таким способом мы:\n",
    "- проверим, насколько наши данные подвержены отклонениям, не связанным с проведением A/B-теста\n",
    "- совершим те же самые действия, которые мы потом будем совершать при проведении настоящего A/B теста\n",
    "\n",
    "Проведем предварительный набор A/A-тестов с расчетом p-value, которое в случае корректности сплитования и выбора критериев будет распределено равномерно.\n",
    "\n",
    "Берем `activation_df` так как для расчета основной метрики нам нужно посчитать долю фродеров среди именно активированных юзеров."
   ]
  },
  {
   "cell_type": "code",
   "execution_count": 42,
   "metadata": {},
   "outputs": [],
   "source": [
    "sample_size = 3024\n",
    "p_values = []\n",
    "\n",
    "for i in range(10000):\n",
    "    control = activation_df.sample(sample_size).ind_frod\n",
    "    test = activation_df.drop(control.index).sample(sample_size).ind_frod\n",
    "    result = ss.ttest_ind(control, test, equal_var=False)\n",
    "    p_value = result.pvalue\n",
    "    p_values.append(p_value)"
   ]
  },
  {
   "cell_type": "code",
   "execution_count": 43,
   "metadata": {
    "scrolled": true
   },
   "outputs": [
    {
     "data": {
      "text/plain": [
       "<matplotlib.axes._subplots.AxesSubplot at 0x7f63aa94d438>"
      ]
     },
     "execution_count": 43,
     "metadata": {},
     "output_type": "execute_result"
    },
    {
     "data": {
      "image/png": "[encoded data removed]",
      "text/plain": [
       "<Figure size 432x288 with 1 Axes>"
      ]
     },
     "metadata": {
      "needs_background": "light"
     },
     "output_type": "display_data"
    }
   ],
   "source": [
    "sns.histplot(p_values, bins=30)"
   ]
  },
  {
   "cell_type": "code",
   "execution_count": 44,
   "metadata": {},
   "outputs": [
    {
     "data": {
      "text/plain": [
       "4.97"
      ]
     },
     "execution_count": 44,
     "metadata": {},
     "output_type": "execute_result"
    }
   ],
   "source": [
    "round(((np.array(p_values) <= 0.05).mean()) * 100, 5)"
   ]
  },
  {
   "cell_type": "markdown",
   "metadata": {},
   "source": [
    "В t-тесте p-value оказалось меньше либо равно 0.05 в 4.97% случаев. Видно, что вероятность ошибки 1-го рода контролируется."
   ]
  },
  {
   "cell_type": "markdown",
   "metadata": {},
   "source": [
    "# 3. Ответы на вопросы"
   ]
  },
  {
   "cell_type": "markdown",
   "metadata": {},
   "source": [
    "## Как определить, какой продавец мошенник, а какой — нет?"
   ]
  },
  {
   "cell_type": "markdown",
   "metadata": {},
   "source": [
    "- Для того чтобы определить мошенника можно во время регистрации ввести произведение звонка на привязанный номер и ввод последних 4 цифр входящего номера продавцом. Мошенники не хотят светить свои номера телефонов, поэтому могут покупать онлайн-номера. Используя его можно принять сообщение с кодом и подтвердить регистрацию, но именно звонок не пройдет по такой схеме.\n",
    "- Если продавец регистрирует несколько магазинов с одного IP-адреса, то, возможно, что он фродер и это делает массово, необходимо заблокировать доступ с такого IP-адреса.\n",
    "- С помощью фото паспорта можно будет идентифицировать ФИО мерчанта, они должны совпадать с ФИО в зарегистрированном ИНН. Также можно будет дополнительно проверить адрес регистрации, если говорим об ИП. Юридический адрес ИП — это адрес регистрации продавца, по которому он прописан. Этот адрес можно посмотреть в паспорте на отдельной странице.\n",
    "- Нужно проверить расчетный счет, он должен принадлежать ИП.\n",
    "- Можно ввести обязательным этапом предоставление справки о системе налогообложения, как доказательство того, что у продавца действительно есть ИП и именно его он пытается зарегистрировать на маркетплейсе. Справка формируется в ЛК налогоплательщика. Либо скриншот из ЛК, как подтверждение того, что это честный продавец, не фродер.\n",
    "- Можно также проверить код ОКВЭД и его соответствие товарам продавца.\n",
    "- Также можно запросить документы на товары, но нужно понимать, что они легко подделываются.\n",
    "\n",
    "Еще можно задетектить фродера по след. признакам (уже после его активации):\n",
    "- Описание в карточке товара. Если описания нет, оно короткое или слишком общее и при этом цена товара ниже, чем в других предложениях, это должно вызвать подозрения насчет фрода.\n",
    "- Частые отмены заказов именно по желанию покупателя, то есть покупатель скорее всего отменяет заказ на площадке, чтобы оплатить его через сторонние сервисы. Или же отмены со стороны продавца (продавец сам отменяет заказ и пишет покупателю в личку).\n",
    "- Отсутствие продаж с момента активации. Возможно, что идут \"фейковые\" мошеннические продажи не на площадке, нужно через какое-то время деактивировать аккаунт, если продавец зашел на площадку, но так ничего и не продал.\n",
    "- Отсутствие отзывов. Соответственно, если нет продаж на площадке, то отзывов тоже не будет."
   ]
  },
  {
   "cell_type": "markdown",
   "metadata": {},
   "source": [
    "## Какие ещё могут быть схемы мошенничества?"
   ]
  },
  {
   "cell_type": "markdown",
   "metadata": {},
   "source": [
    "- Продажа неоригинальных товаров под видом оригинальных и по цене оригинальных.\n",
    "- Продажа подменных товаров. Продавец-фродер берёт известный бренд и заводит на маркетплейсе магазин с таким названием. Но в итоге продает совсем не то, что заявлено на странице маркетплейса.\n",
    "- Кража личных данных через спам-звонок. Фродер звонит человеку, представляется сотрудником маркетплейса и просит подтвердить данные о доставке, ссылаясь на стандартную процедуру. Этой схемой можно выманить у покупателей логины и пароли от учётных записей.\n",
    "- Покупатель оформляет заказ и через несколько минут продавец-фродер нажимает кнопку о том, что заказ доставлен, а покупатель получает пуш с уведомлением об успешной доставке. При доставке DBS (Delivery By Seller) продавец может нажать кнопку \"заказ доставлен\" в любое время. То есть покупатель все оплатил, но по факту ничего не получил. Можно ввести штраф для продавца, если он нажал эту кнопку раньше указанной даты. Но здесь все произошло на площадке, а не во вне, поэтому маркетплейс должен разобраться в этой ситуации и вернуть деньги покупателю."
   ]
  },
  {
   "cell_type": "markdown",
   "metadata": {},
   "source": [
    "## Какие продуктовые фичи могут помочь нашим клиентам избежать неприятных ситуаций с мошенничеством?"
   ]
  },
  {
   "cell_type": "markdown",
   "metadata": {},
   "source": [
    "- Всплывающий баннер/сторис в приложении/на сайте о частых схемах фрода, чтобы повысить информированность покупателей о мошенничестве.\n",
    "- Ввести рейтинг продавца.\n",
    "- Отсутствие возможности у продавца установить цену на товар сильно ниже рыночной, так товар фродера уже не будет таким привлекательным для покупателя на фоне других. Единственный плюс товара у фродера по сравнению с тем же товаром у других продавцов - это цена.\n",
    "- Можно сделать плашку на товаре - \"цена сильно ниже/выше рынка\" (для товаров с заниженной или завышенной ценой). Покупатель, возможно, посчитает такой товар и продавца подозрительными.\n",
    "- Также можно ввести платный вход на площадку, фродеры с меньшей вероятностью будут регистрироваться на площадке, если есть платный вход. Чем проще вход на площадку, тем лучше для фродера. Не совсем продуктовая фича, больше как просто способ снизить кол-во продавцов-фродеров."
   ]
  },
  {
   "cell_type": "markdown",
   "metadata": {},
   "source": [
    "## Через какую механику мошенник узнает контакты покупателя? Что можем сделать, чтобы усложнить жизнь фродерам?"
   ]
  },
  {
   "cell_type": "markdown",
   "metadata": {},
   "source": [
    "- Когда покупатель делает заказ у продавца, то ему могут быть видны перс. данные покупателя - фамилия и имя, телефон, email, адрес доставки (дом. адрес, если доставка курьером). В частности они могут становиться видны продавцу при оформлении заказа покупателем. В таком случае у продавца в ЛК появляется этикетка отправки и акт, в них могут быть перс. данные, которые фродер может потом использовать в своих целях. Также если на этикетке есть только фамилия и имя + адрес, то фродер может пробить телефон по слитым базам данных. Даже если указан только адрес ПВЗ, из-за того, что покупатели обычно выбирают ПВЗ рядом с домом, есть вероятность, что по улице ПВЗ все равно можно идентифицировать адрес проживания. Нужно эти перс. данные покупателя обезличить и идентифицировать посылку только, например, по QR-коду и номеру посылки, а покупателя никак не идентифицировать.\n",
    "- Фродеры могут оставить в описании товара номер телефона и они просят перед оформлением заказа обязательно написать менеджеру. Так покупатель может написать по номеру, предложенному в описании товара и сам слить свои данные. Также такое может происходить и в чате продавца с покупателем, продавец может попросить покупателя перейти на сторонний ресурс. Соответственно, нужно блокировать профили с номерами телефонов и с похожими сообщениями в чате, любыми ссылками, названиями магазинов, куда покупатель может сам перейти."
   ]
  }
 ],
 "metadata": {
  "kernelspec": {
   "display_name": "Python 3 (ipykernel)",
   "language": "python",
   "name": "python3"
  },
  "language_info": {
   "codemirror_mode": {
    "name": "ipython",
    "version": 3
   },
   "file_extension": ".py",
   "mimetype": "text/x-python",
   "name": "python",
   "nbconvert_exporter": "python",
   "pygments_lexer": "ipython3",
   "version": "3.11.5"
  }
 },
 "nbformat": 4,
 "nbformat_minor": 4
}
